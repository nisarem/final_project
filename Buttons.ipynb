{
 "cells": [
  {
   "cell_type": "code",
   "execution_count": 57,
   "id": "c2df4fa8",
   "metadata": {},
   "outputs": [],
   "source": [
    "import requests\n",
    "import pandas as pd\n",
    "import ipywidgets as widgets\n",
    "from IPython.display import display\n",
    "from IPython.display import Javascript\n",
    "from datetime import datetime"
   ]
  },
  {
   "cell_type": "code",
   "execution_count": 37,
   "id": "c457debd",
   "metadata": {},
   "outputs": [],
   "source": [
    "f = open(\"token_TMDB.txt\",\"r\")\n",
    "token = f.read()\n",
    "headers = {\"accept\": \"application/json\", \"Authorization\": f\"Bearer {token}\"}"
   ]
  },
  {
   "cell_type": "code",
   "execution_count": 38,
   "id": "62f33528",
   "metadata": {},
   "outputs": [],
   "source": [
    "genres = pd.read_csv('genres.csv')"
   ]
  },
  {
   "cell_type": "code",
   "execution_count": 126,
   "id": "c48b8d4c",
   "metadata": {},
   "outputs": [
    {
     "data": {
      "text/html": [
       "<div>\n",
       "<style scoped>\n",
       "    .dataframe tbody tr th:only-of-type {\n",
       "        vertical-align: middle;\n",
       "    }\n",
       "\n",
       "    .dataframe tbody tr th {\n",
       "        vertical-align: top;\n",
       "    }\n",
       "\n",
       "    .dataframe thead th {\n",
       "        text-align: right;\n",
       "    }\n",
       "</style>\n",
       "<table border=\"1\" class=\"dataframe\">\n",
       "  <thead>\n",
       "    <tr style=\"text-align: right;\">\n",
       "      <th></th>\n",
       "      <th>id</th>\n",
       "      <th>name</th>\n",
       "    </tr>\n",
       "  </thead>\n",
       "  <tbody>\n",
       "    <tr>\n",
       "      <th>0</th>\n",
       "      <td>28</td>\n",
       "      <td>Action</td>\n",
       "    </tr>\n",
       "    <tr>\n",
       "      <th>1</th>\n",
       "      <td>12</td>\n",
       "      <td>Adventure</td>\n",
       "    </tr>\n",
       "    <tr>\n",
       "      <th>2</th>\n",
       "      <td>16</td>\n",
       "      <td>Animation</td>\n",
       "    </tr>\n",
       "    <tr>\n",
       "      <th>3</th>\n",
       "      <td>35</td>\n",
       "      <td>Comedy</td>\n",
       "    </tr>\n",
       "    <tr>\n",
       "      <th>4</th>\n",
       "      <td>80</td>\n",
       "      <td>Crime</td>\n",
       "    </tr>\n",
       "    <tr>\n",
       "      <th>5</th>\n",
       "      <td>99</td>\n",
       "      <td>Documentary</td>\n",
       "    </tr>\n",
       "    <tr>\n",
       "      <th>6</th>\n",
       "      <td>18</td>\n",
       "      <td>Drama</td>\n",
       "    </tr>\n",
       "    <tr>\n",
       "      <th>7</th>\n",
       "      <td>10751</td>\n",
       "      <td>Family</td>\n",
       "    </tr>\n",
       "    <tr>\n",
       "      <th>8</th>\n",
       "      <td>14</td>\n",
       "      <td>Fantasy</td>\n",
       "    </tr>\n",
       "    <tr>\n",
       "      <th>9</th>\n",
       "      <td>36</td>\n",
       "      <td>History</td>\n",
       "    </tr>\n",
       "    <tr>\n",
       "      <th>10</th>\n",
       "      <td>27</td>\n",
       "      <td>Horror</td>\n",
       "    </tr>\n",
       "    <tr>\n",
       "      <th>11</th>\n",
       "      <td>10402</td>\n",
       "      <td>Music</td>\n",
       "    </tr>\n",
       "    <tr>\n",
       "      <th>12</th>\n",
       "      <td>9648</td>\n",
       "      <td>Mystery</td>\n",
       "    </tr>\n",
       "    <tr>\n",
       "      <th>13</th>\n",
       "      <td>10749</td>\n",
       "      <td>Romance</td>\n",
       "    </tr>\n",
       "    <tr>\n",
       "      <th>14</th>\n",
       "      <td>878</td>\n",
       "      <td>Science Fiction</td>\n",
       "    </tr>\n",
       "    <tr>\n",
       "      <th>15</th>\n",
       "      <td>10770</td>\n",
       "      <td>TV Movie</td>\n",
       "    </tr>\n",
       "    <tr>\n",
       "      <th>16</th>\n",
       "      <td>53</td>\n",
       "      <td>Thriller</td>\n",
       "    </tr>\n",
       "    <tr>\n",
       "      <th>17</th>\n",
       "      <td>10752</td>\n",
       "      <td>War</td>\n",
       "    </tr>\n",
       "    <tr>\n",
       "      <th>18</th>\n",
       "      <td>37</td>\n",
       "      <td>Western</td>\n",
       "    </tr>\n",
       "  </tbody>\n",
       "</table>\n",
       "</div>"
      ],
      "text/plain": [
       "       id             name\n",
       "0      28           Action\n",
       "1      12        Adventure\n",
       "2      16        Animation\n",
       "3      35           Comedy\n",
       "4      80            Crime\n",
       "5      99      Documentary\n",
       "6      18            Drama\n",
       "7   10751           Family\n",
       "8      14          Fantasy\n",
       "9      36          History\n",
       "10     27           Horror\n",
       "11  10402            Music\n",
       "12   9648          Mystery\n",
       "13  10749          Romance\n",
       "14    878  Science Fiction\n",
       "15  10770         TV Movie\n",
       "16     53         Thriller\n",
       "17  10752              War\n",
       "18     37          Western"
      ]
     },
     "execution_count": 126,
     "metadata": {},
     "output_type": "execute_result"
    }
   ],
   "source": [
    "genres"
   ]
  },
  {
   "cell_type": "code",
   "execution_count": 34,
   "id": "89240335",
   "metadata": {},
   "outputs": [
    {
     "data": {
      "application/vnd.jupyter.widget-view+json": {
       "model_id": "6e45bc847ac24c40b5b368a3f4321109",
       "version_major": 2,
       "version_minor": 0
      },
      "text/plain": [
       "Dropdown(description='Genre:', options=('Action', 'Adventure', 'Animation', 'Comedy', 'Crime', 'Documentary', …"
      ]
     },
     "metadata": {},
     "output_type": "display_data"
    },
    {
     "data": {
      "application/vnd.jupyter.widget-view+json": {
       "model_id": "0c7a39e47197431286fbcac3a1f94297",
       "version_major": 2,
       "version_minor": 0
      },
      "text/plain": [
       "Button(description='Next >>', style=ButtonStyle())"
      ]
     },
     "metadata": {},
     "output_type": "display_data"
    },
    {
     "data": {
      "application/vnd.jupyter.widget-view+json": {
       "model_id": "ffc13113488c4d0b9d5552b6a58357fd",
       "version_major": 2,
       "version_minor": 0
      },
      "text/plain": [
       "IntRangeSlider(value=(1900, 2024), continuous_update=False, description='Period:', max=2024, min=1900)"
      ]
     },
     "metadata": {},
     "output_type": "display_data"
    },
    {
     "data": {
      "application/vnd.jupyter.widget-view+json": {
       "model_id": "502adcd758dd4c5a860e13bdf2fc45ab",
       "version_major": 2,
       "version_minor": 0
      },
      "text/plain": [
       "Button(description='Next >>', style=ButtonStyle())"
      ]
     },
     "metadata": {},
     "output_type": "display_data"
    }
   ],
   "source": [
    "class UserSelection:\n",
    "    def __init__(self):\n",
    "        \n",
    "        # Define global variables to store the chosen genre and period\n",
    "        self.genre = None\n",
    "        self.period = None\n",
    "        self.director = None\n",
    "        self.country = None\n",
    "        \n",
    "        # Get the current year\n",
    "        current_year = datetime.now().year\n",
    "        \n",
    "        # Create widgets for genre selection\n",
    "        self.genre_dropdown = widgets.Dropdown(\n",
    "            options=genres['name'],\n",
    "            description='Genre:'\n",
    "        )\n",
    "        \n",
    "        self.button_next_genre = widgets.Button(description=\"Next >>\")\n",
    "        self.button_next_genre.on_click(self.next_button_genre_clicked)\n",
    "        \n",
    "        # Create widgets for period selection\n",
    "        self.period_slider = widgets.IntRangeSlider(\n",
    "            value=[1900, current_year],\n",
    "            min=1900,\n",
    "            max=current_year,\n",
    "            description='Period:',\n",
    "            continuous_update=False,\n",
    "            orientation='horizontal',\n",
    "            readout=True,\n",
    "            readout_format='d',\n",
    "        )\n",
    "        \n",
    "        self.button_next_period = widgets.Button(description=\"Next >>\")\n",
    "        self.button_next_period.on_click(self.next_button_period_clicked)\n",
    "        \n",
    "        # Display the genre selection widgets\n",
    "        self.display_genre_selection()\n",
    "    \n",
    "    def display_genre_selection(self):\n",
    "        display(self.genre_dropdown)\n",
    "        display(self.button_next_genre)\n",
    "    \n",
    "    def next_button_genre_clicked(self, button):\n",
    "        self.genre = self.genre_dropdown.value\n",
    "        self.genre_dropdown.disabled = True\n",
    "        self.button_next_genre.disabled = True\n",
    "        # Display the period selection widgets\n",
    "        self.display_period_selection()\n",
    "    \n",
    "    def display_period_selection(self):\n",
    "        display(self.period_slider)\n",
    "        display(self.button_next_period)\n",
    "    \n",
    "    def next_button_period_clicked(self, button):\n",
    "        self.period = self.period_slider.value\n",
    "        self.period_slider.disabled = True\n",
    "        self.button_next_period.disabled = True\n",
    "        # Now you have both genre and period selected, you can perform further actions as needed\n",
    "\n",
    "# Instantiate the UserSelection class\n",
    "selector = UserSelection()\n"
   ]
  },
  {
   "cell_type": "code",
   "execution_count": 35,
   "id": "11975724",
   "metadata": {},
   "outputs": [
    {
     "name": "stdout",
     "output_type": "stream",
     "text": [
      "Selected Genre: Science Fiction\n",
      "Selected Period: (1971, 2024)\n"
     ]
    }
   ],
   "source": [
    "# Accessing chosen options\n",
    "selected_genre = selector.genre\n",
    "selected_period = selector.period\n",
    "\n",
    "# Printing chosen options\n",
    "print(\"Selected Genre:\", selected_genre)\n",
    "print(\"Selected Period:\", selected_period)\n"
   ]
  },
  {
   "cell_type": "code",
   "execution_count": 39,
   "id": "ff80c149",
   "metadata": {},
   "outputs": [
    {
     "name": "stdout",
     "output_type": "stream",
     "text": [
      "Paddington - 2014\n",
      "Paddington 2 - 2017\n",
      "Paddington Goes to School - 1986\n"
     ]
    }
   ],
   "source": [
    "title = 'paddington'\n",
    "url = f\"https://api.themoviedb.org/3/search/movie?query={title}&include_adult=false&language=en-US&page=1\"\n",
    "res = requests.get(url, headers=headers).json()\n",
    "if res['results']:\n",
    "    for i in range(3):\n",
    "        release_year = res['results'][i]['release_date'].split('-')[0]\n",
    "        print(res['results'][i]['title'],'-',release_year)"
   ]
  },
  {
   "cell_type": "code",
   "execution_count": 49,
   "id": "9d7b04f6",
   "metadata": {},
   "outputs": [
    {
     "data": {
      "application/vnd.jupyter.widget-view+json": {
       "model_id": "7a1563861e0c44d5aca4a6fb9bbb4080",
       "version_major": 2,
       "version_minor": 0
      },
      "text/plain": [
       "Button(description='Click Me!', style=ButtonStyle())"
      ]
     },
     "metadata": {},
     "output_type": "display_data"
    },
    {
     "data": {
      "application/vnd.jupyter.widget-view+json": {
       "model_id": "0e264e56eb40453ebf4d4b6e7aa57306",
       "version_major": 2,
       "version_minor": 0
      },
      "text/plain": [
       "Output()"
      ]
     },
     "metadata": {},
     "output_type": "display_data"
    }
   ],
   "source": [
    "from IPython.display import display\n",
    "button = widgets.Button(description=\"Click Me!\")\n",
    "output = widgets.Output()\n",
    "\n",
    "display(button, output)\n",
    "\n",
    "def on_button_clicked(b):\n",
    "    with output:\n",
    "        print(\"Button clicked.\")\n",
    "\n",
    "button.on_click(on_button_clicked)"
   ]
  },
  {
   "cell_type": "code",
   "execution_count": null,
   "id": "85e67793",
   "metadata": {},
   "outputs": [],
   "source": []
  },
  {
   "cell_type": "code",
   "execution_count": 125,
   "id": "394f6726",
   "metadata": {},
   "outputs": [
    {
     "name": "stderr",
     "output_type": "stream",
     "text": [
      "/var/folders/_8/f5zjdbxn0vs8y_m3qv7n_8800000gn/T/ipykernel_59331/3375486021.py:22: DeprecationWarning: on_submit is deprecated. Instead, set the .continuous_update attribute to False and observe the value changing with: mywidget.observe(callback, 'value').\n",
      "  title.on_submit(recommend_movie)\n"
     ]
    },
    {
     "data": {
      "application/vnd.jupyter.widget-view+json": {
       "model_id": "5c616550073f4471b37f3213db3289a5",
       "version_major": 2,
       "version_minor": 0
      },
      "text/plain": [
       "Text(value='', placeholder='Enter a movie title:')"
      ]
     },
     "metadata": {},
     "output_type": "display_data"
    },
    {
     "name": "stdout",
     "output_type": "stream",
     "text": [
      "Processing movie: pad\n",
      "Paddington - 2014\n",
      "Paddington 2 - 2017\n",
      "Paddington Goes to School - 1986\n"
     ]
    }
   ],
   "source": [
    "def process_movie(movie_title):\n",
    "    print(\"Processing movie:\", movie_title)\n",
    "    title = 'paddington'\n",
    "    url = f\"https://api.themoviedb.org/3/search/movie?query={title}&include_adult=false&language=en-US&page=1\"\n",
    "    res = requests.get(url, headers=headers).json()\n",
    "    n=3\n",
    "    if res['results']:\n",
    "        if len(res['results'])<3:\n",
    "            n = len(res['results'])\n",
    "        for i in range(n):\n",
    "            release_year = res['results'][i]['release_date'].split('-')[0]\n",
    "            print(res['results'][i]['title'],'-',release_year)\n",
    "    return \n",
    "\n",
    "def recommend_movie(change):\n",
    "    movie_title = title.value.strip()  \n",
    "    if movie_title:\n",
    "        title.disabled = True\n",
    "        process_movie(movie_title)  # Call process_movie directly here\n",
    "\n",
    "title = widgets.Text(placeholder='Enter a movie title:', disabled=False)\n",
    "title.on_submit(recommend_movie)\n",
    "display(title)\n"
   ]
  },
  {
   "cell_type": "code",
   "execution_count": null,
   "id": "3ec3e1d6",
   "metadata": {},
   "outputs": [],
   "source": []
  },
  {
   "cell_type": "code",
   "execution_count": 115,
   "id": "9a50612b",
   "metadata": {},
   "outputs": [],
   "source": [
    "movie_title"
   ]
  },
  {
   "cell_type": "code",
   "execution_count": null,
   "id": "169a48a2",
   "metadata": {},
   "outputs": [],
   "source": []
  },
  {
   "cell_type": "code",
   "execution_count": 51,
   "id": "6e809ecb",
   "metadata": {},
   "outputs": [
    {
     "data": {
      "application/vnd.jupyter.widget-view+json": {
       "model_id": "82575d7287cc487187fa7538367631d4",
       "version_major": 2,
       "version_minor": 0
      },
      "text/plain": [
       "Output()"
      ]
     },
     "execution_count": 51,
     "metadata": {},
     "output_type": "execute_result"
    }
   ],
   "source": [
    "output"
   ]
  },
  {
   "cell_type": "code",
   "execution_count": 8,
   "id": "179d8053",
   "metadata": {},
   "outputs": [
    {
     "data": {
      "application/vnd.jupyter.widget-view+json": {
       "model_id": "3e6f9849be6345bea50f6e55a9c5613e",
       "version_major": 2,
       "version_minor": 0
      },
      "text/plain": [
       "Dropdown(description='Genre:', options=('Action', 'Adventure', 'Animation', 'Comedy', 'Crime', 'Documentary', …"
      ]
     },
     "metadata": {},
     "output_type": "display_data"
    },
    {
     "data": {
      "application/vnd.jupyter.widget-view+json": {
       "model_id": "871a354a566e41dfa38f1e96125cc0e7",
       "version_major": 2,
       "version_minor": 0
      },
      "text/plain": [
       "Button(description='Next >>', style=ButtonStyle())"
      ]
     },
     "metadata": {},
     "output_type": "display_data"
    }
   ],
   "source": [
    "\n",
    "# Define an empty global variable to store the chosen genre\n",
    "genre = None\n",
    "\n",
    "# Define a function to update the chosen genre and lock the dropdown\n",
    "def next_button_clicked(button):\n",
    "    global genre\n",
    "    genre = genre_dropdown.value\n",
    "    genre_dropdown.disabled = True\n",
    "    if genre == 'Action': # Check the genre after selection\n",
    "        print(f'{genre} genre is selected')\n",
    "\n",
    "# Create a dropdown widget for genre selection\n",
    "genre_dropdown = widgets.Dropdown(\n",
    "    options=genres['name'],\n",
    "    description='Genre:'\n",
    ")\n",
    "\n",
    "# Create a \"Next\" button\n",
    "button = widgets.Button(description=\"Next >>\")\n",
    "\n",
    "# Connect the button click event to the function to update the chosen genre\n",
    "button.on_click(next_button_clicked)\n",
    "\n",
    "# Display the dropdown widget and the button\n",
    "display(genre_dropdown)\n",
    "display(button)"
   ]
  }
 ],
 "metadata": {
  "kernelspec": {
   "display_name": "Python 3 (ipykernel)",
   "language": "python",
   "name": "python3"
  },
  "language_info": {
   "codemirror_mode": {
    "name": "ipython",
    "version": 3
   },
   "file_extension": ".py",
   "mimetype": "text/x-python",
   "name": "python",
   "nbconvert_exporter": "python",
   "pygments_lexer": "ipython3",
   "version": "3.11.5"
  }
 },
 "nbformat": 4,
 "nbformat_minor": 5
}
