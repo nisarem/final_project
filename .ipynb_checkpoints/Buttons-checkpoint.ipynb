{
 "cells": [
  {
   "cell_type": "code",
   "execution_count": 57,
   "id": "c2df4fa8",
   "metadata": {},
   "outputs": [],
   "source": [
    "import requests\n",
    "import pandas as pd\n",
    "import ipywidgets as widgets\n",
    "from IPython.display import display\n",
    "from IPython.display import Javascript\n",
    "from datetime import datetime"
   ]
  },
  {
   "cell_type": "code",
   "execution_count": 37,
   "id": "287103ef",
   "metadata": {},
   "outputs": [],
   "source": [
    "f = open(\"token_TMDB.txt\",\"r\")\n",
    "token = f.read()\n",
    "headers = {\"accept\": \"application/json\", \"Authorization\": f\"Bearer {token}\"}"
   ]
  },
  {
   "cell_type": "code",
   "execution_count": 38,
   "id": "62f33528",
   "metadata": {},
   "outputs": [],
   "source": [
    "genres = pd.read_csv('genres.csv')"
   ]
  },
  {
   "cell_type": "code",
   "execution_count": 34,
   "id": "89240335",
   "metadata": {},
   "outputs": [
    {
     "data": {
      "application/vnd.jupyter.widget-view+json": {
       "model_id": "6e45bc847ac24c40b5b368a3f4321109",
       "version_major": 2,
       "version_minor": 0
      },
      "text/plain": [
       "Dropdown(description='Genre:', options=('Action', 'Adventure', 'Animation', 'Comedy', 'Crime', 'Documentary', …"
      ]
     },
     "metadata": {},
     "output_type": "display_data"
    },
    {
     "data": {
      "application/vnd.jupyter.widget-view+json": {
       "model_id": "0c7a39e47197431286fbcac3a1f94297",
       "version_major": 2,
       "version_minor": 0
      },
      "text/plain": [
       "Button(description='Next >>', style=ButtonStyle())"
      ]
     },
     "metadata": {},
     "output_type": "display_data"
    },
    {
     "data": {
      "application/vnd.jupyter.widget-view+json": {
       "model_id": "ffc13113488c4d0b9d5552b6a58357fd",
       "version_major": 2,
       "version_minor": 0
      },
      "text/plain": [
       "IntRangeSlider(value=(1900, 2024), continuous_update=False, description='Period:', max=2024, min=1900)"
      ]
     },
     "metadata": {},
     "output_type": "display_data"
    },
    {
     "data": {
      "application/vnd.jupyter.widget-view+json": {
       "model_id": "502adcd758dd4c5a860e13bdf2fc45ab",
       "version_major": 2,
       "version_minor": 0
      },
      "text/plain": [
       "Button(description='Next >>', style=ButtonStyle())"
      ]
     },
     "metadata": {},
     "output_type": "display_data"
    }
   ],
   "source": [
    "class UserSelection:\n",
    "    def __init__(self):\n",
    "        \n",
    "        # Define global variables to store the chosen genre and period\n",
    "        self.genre = None\n",
    "        self.period = None\n",
    "        self.director = None\n",
    "        self.country = None\n",
    "        \n",
    "        # Get the current year\n",
    "        current_year = datetime.now().year\n",
    "        \n",
    "        # Create widgets for genre selection\n",
    "        self.genre_dropdown = widgets.Dropdown(\n",
    "            options=genres['name'],\n",
    "            description='Genre:'\n",
    "        )\n",
    "        \n",
    "        self.button_next_genre = widgets.Button(description=\"Next >>\")\n",
    "        self.button_next_genre.on_click(self.next_button_genre_clicked)\n",
    "        \n",
    "        # Create widgets for period selection\n",
    "        self.period_slider = widgets.IntRangeSlider(\n",
    "            value=[1900, current_year],\n",
    "            min=1900,\n",
    "            max=current_year,\n",
    "            description='Period:',\n",
    "            continuous_update=False,\n",
    "            orientation='horizontal',\n",
    "            readout=True,\n",
    "            readout_format='d',\n",
    "        )\n",
    "        \n",
    "        self.button_next_period = widgets.Button(description=\"Next >>\")\n",
    "        self.button_next_period.on_click(self.next_button_period_clicked)\n",
    "        \n",
    "        # Display the genre selection widgets\n",
    "        self.display_genre_selection()\n",
    "    \n",
    "    def display_genre_selection(self):\n",
    "        display(self.genre_dropdown)\n",
    "        display(self.button_next_genre)\n",
    "    \n",
    "    def next_button_genre_clicked(self, button):\n",
    "        self.genre = self.genre_dropdown.value\n",
    "        self.genre_dropdown.disabled = True\n",
    "        self.button_next_genre.disabled = True\n",
    "        # Display the period selection widgets\n",
    "        self.display_period_selection()\n",
    "    \n",
    "    def display_period_selection(self):\n",
    "        display(self.period_slider)\n",
    "        display(self.button_next_period)\n",
    "    \n",
    "    def next_button_period_clicked(self, button):\n",
    "        self.period = self.period_slider.value\n",
    "        self.period_slider.disabled = True\n",
    "        self.button_next_period.disabled = True\n",
    "        # Now you have both genre and period selected, you can perform further actions as needed\n",
    "\n",
    "# Instantiate the UserSelection class\n",
    "selector = UserSelection()\n"
   ]
  },
  {
   "cell_type": "code",
   "execution_count": 35,
   "id": "11975724",
   "metadata": {},
   "outputs": [
    {
     "name": "stdout",
     "output_type": "stream",
     "text": [
      "Selected Genre: Science Fiction\n",
      "Selected Period: (1971, 2024)\n"
     ]
    }
   ],
   "source": [
    "# Accessing chosen options\n",
    "selected_genre = selector.genre\n",
    "selected_period = selector.period\n",
    "\n",
    "# Printing chosen options\n",
    "print(\"Selected Genre:\", selected_genre)\n",
    "print(\"Selected Period:\", selected_period)\n"
   ]
  },
  {
   "cell_type": "code",
   "execution_count": 39,
   "id": "ff80c149",
   "metadata": {},
   "outputs": [
    {
     "name": "stdout",
     "output_type": "stream",
     "text": [
      "Paddington - 2014\n",
      "Paddington 2 - 2017\n",
      "Paddington Goes to School - 1986\n"
     ]
    }
   ],
   "source": [
    "title = 'paddington'\n",
    "url = f\"https://api.themoviedb.org/3/search/movie?query={title}&include_adult=false&language=en-US&page=1\"\n",
    "res = requests.get(url, headers=headers).json()\n",
    "if res['results']:\n",
    "    for i in range(3):\n",
    "        release_year = res['results'][i]['release_date'].split('-')[0]\n",
    "        print(res['results'][i]['title'],'-',release_year)"
   ]
  },
  {
   "cell_type": "code",
   "execution_count": 49,
   "id": "9d7b04f6",
   "metadata": {},
   "outputs": [
    {
     "data": {
      "application/vnd.jupyter.widget-view+json": {
       "model_id": "7a1563861e0c44d5aca4a6fb9bbb4080",
       "version_major": 2,
       "version_minor": 0
      },
      "text/plain": [
       "Button(description='Click Me!', style=ButtonStyle())"
      ]
     },
     "metadata": {},
     "output_type": "display_data"
    },
    {
     "data": {
      "application/vnd.jupyter.widget-view+json": {
       "model_id": "0e264e56eb40453ebf4d4b6e7aa57306",
       "version_major": 2,
       "version_minor": 0
      },
      "text/plain": [
       "Output()"
      ]
     },
     "metadata": {},
     "output_type": "display_data"
    }
   ],
   "source": [
    "from IPython.display import display\n",
    "button = widgets.Button(description=\"Click Me!\")\n",
    "output = widgets.Output()\n",
    "\n",
    "display(button, output)\n",
    "\n",
    "def on_button_clicked(b):\n",
    "    with output:\n",
    "        print(\"Button clicked.\")\n",
    "\n",
    "button.on_click(on_button_clicked)"
   ]
  },
  {
   "cell_type": "code",
   "execution_count": 72,
   "id": "394f6726",
   "metadata": {},
   "outputs": [
    {
     "data": {
      "application/vnd.jupyter.widget-view+json": {
       "model_id": "f34ad3d26511479db7db07bba86a52d5",
       "version_major": 2,
       "version_minor": 0
      },
      "text/plain": [
       "Text(value='', placeholder='Enter a movie title:')"
      ]
     },
     "metadata": {},
     "output_type": "display_data"
    },
    {
     "data": {
      "application/vnd.jupyter.widget-view+json": {
       "model_id": "2523beafefb042c18ce92ab9ff0cc508",
       "version_major": 2,
       "version_minor": 0
      },
      "text/plain": [
       "Button(description='Recommend', style=ButtonStyle())"
      ]
     },
     "metadata": {},
     "output_type": "display_data"
    }
   ],
   "source": [
    "import ipywidgets as widgets\n",
    "from IPython.display import display\n",
    "\n",
    "# Create text input widget\n",
    "title = widgets.Text(placeholder='Enter a movie title:', disabled=False)\n",
    "\n",
    "# Create button widget\n",
    "button = widgets.Button(description=\"Recommend\")\n",
    "\n",
    "# Define function to get input and perform action\n",
    "def recommend_movie(button):\n",
    "    movie_title = title.value\n",
    "    # Now you can use movie_title to recommend a similar movie or perform any other action\n",
    "    print(\"You entered:\", movie_title)\n",
    "\n",
    "# Link the button to the function\n",
    "button.on_click(recommend_movie)\n",
    "\n",
    "# Define function to recommend movie when Enter key is pressed\n",
    "def handle_enter_key(event):\n",
    "    if event['new'] == '\\r':  # Check if the new value is the Enter key\n",
    "        recommend_movie(button)\n",
    "\n",
    "# Add event listener to the text input widget\n",
    "title.observe(handle_enter_key, names='value')\n",
    "\n",
    "# Display the widgets\n",
    "display(title)\n",
    "display(button)\n"
   ]
  },
  {
   "cell_type": "code",
   "execution_count": null,
   "id": "31430757",
   "metadata": {},
   "outputs": [],
   "source": []
  },
  {
   "cell_type": "code",
   "execution_count": null,
   "id": "cfac157a",
   "metadata": {},
   "outputs": [],
   "source": []
  },
  {
   "cell_type": "code",
   "execution_count": 52,
   "id": "169a48a2",
   "metadata": {},
   "outputs": [
    {
     "data": {
      "application/vnd.jupyter.widget-view+json": {
       "model_id": "ac54360614af43f1ac346bbe0e70844a",
       "version_major": 2,
       "version_minor": 0
      },
      "text/plain": [
       "Text(value='Enter a movie title:')"
      ]
     },
     "execution_count": 52,
     "metadata": {},
     "output_type": "execute_result"
    }
   ],
   "source": [
    "title"
   ]
  },
  {
   "cell_type": "code",
   "execution_count": 51,
   "id": "6e809ecb",
   "metadata": {},
   "outputs": [
    {
     "data": {
      "application/vnd.jupyter.widget-view+json": {
       "model_id": "82575d7287cc487187fa7538367631d4",
       "version_major": 2,
       "version_minor": 0
      },
      "text/plain": [
       "Output()"
      ]
     },
     "execution_count": 51,
     "metadata": {},
     "output_type": "execute_result"
    }
   ],
   "source": [
    "output"
   ]
  },
  {
   "cell_type": "code",
   "execution_count": 8,
   "id": "179d8053",
   "metadata": {},
   "outputs": [
    {
     "data": {
      "application/vnd.jupyter.widget-view+json": {
       "model_id": "3e6f9849be6345bea50f6e55a9c5613e",
       "version_major": 2,
       "version_minor": 0
      },
      "text/plain": [
       "Dropdown(description='Genre:', options=('Action', 'Adventure', 'Animation', 'Comedy', 'Crime', 'Documentary', …"
      ]
     },
     "metadata": {},
     "output_type": "display_data"
    },
    {
     "data": {
      "application/vnd.jupyter.widget-view+json": {
       "model_id": "871a354a566e41dfa38f1e96125cc0e7",
       "version_major": 2,
       "version_minor": 0
      },
      "text/plain": [
       "Button(description='Next >>', style=ButtonStyle())"
      ]
     },
     "metadata": {},
     "output_type": "display_data"
    }
   ],
   "source": [
    "\n",
    "# Define an empty global variable to store the chosen genre\n",
    "genre = None\n",
    "\n",
    "# Define a function to update the chosen genre and lock the dropdown\n",
    "def next_button_clicked(button):\n",
    "    global genre\n",
    "    genre = genre_dropdown.value\n",
    "    genre_dropdown.disabled = True\n",
    "    if genre == 'Action': # Check the genre after selection\n",
    "        print(f'{genre} genre is selected')\n",
    "\n",
    "# Create a dropdown widget for genre selection\n",
    "genre_dropdown = widgets.Dropdown(\n",
    "    options=genres['name'],\n",
    "    description='Genre:'\n",
    ")\n",
    "\n",
    "# Create a \"Next\" button\n",
    "button = widgets.Button(description=\"Next >>\")\n",
    "\n",
    "# Connect the button click event to the function to update the chosen genre\n",
    "button.on_click(next_button_clicked)\n",
    "\n",
    "# Display the dropdown widget and the button\n",
    "display(genre_dropdown)\n",
    "display(button)"
   ]
  }
 ],
 "metadata": {
  "kernelspec": {
   "display_name": "Python 3 (ipykernel)",
   "language": "python",
   "name": "python3"
  },
  "language_info": {
   "codemirror_mode": {
    "name": "ipython",
    "version": 3
   },
   "file_extension": ".py",
   "mimetype": "text/x-python",
   "name": "python",
   "nbconvert_exporter": "python",
   "pygments_lexer": "ipython3",
   "version": "3.11.5"
  }
 },
 "nbformat": 4,
 "nbformat_minor": 5
}
